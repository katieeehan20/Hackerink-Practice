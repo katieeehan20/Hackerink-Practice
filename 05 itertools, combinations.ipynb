{
 "cells": [
  {
   "cell_type": "markdown",
   "id": "abf47f3e",
   "metadata": {},
   "source": [
    "itertools... combinations_with_replacement\n",
    "\n",
    "Example question from hackerink\n",
    "\n",
    "https://www.hackerrank.com/challenges/itertools-combinations-with-replacement/submissions/code/245050236\n"
   ]
  },
  {
   "cell_type": "code",
   "execution_count": 1,
   "id": "e9b04f9d",
   "metadata": {},
   "outputs": [
    {
     "name": "stdout",
     "output_type": "stream",
     "text": [
      "abcde 4\n",
      "aaaa\n",
      "aaab\n",
      "aaac\n",
      "aaad\n",
      "aaae\n",
      "aabb\n",
      "aabc\n",
      "aabd\n",
      "aabe\n",
      "aacc\n",
      "aacd\n",
      "aace\n",
      "aadd\n",
      "aade\n",
      "aaee\n",
      "abbb\n",
      "abbc\n",
      "abbd\n",
      "abbe\n",
      "abcc\n",
      "abcd\n",
      "abce\n",
      "abdd\n",
      "abde\n",
      "abee\n",
      "accc\n",
      "accd\n",
      "acce\n",
      "acdd\n",
      "acde\n",
      "acee\n",
      "addd\n",
      "adde\n",
      "adee\n",
      "aeee\n",
      "bbbb\n",
      "bbbc\n",
      "bbbd\n",
      "bbbe\n",
      "bbcc\n",
      "bbcd\n",
      "bbce\n",
      "bbdd\n",
      "bbde\n",
      "bbee\n",
      "bccc\n",
      "bccd\n",
      "bcce\n",
      "bcdd\n",
      "bcde\n",
      "bcee\n",
      "bddd\n",
      "bdde\n",
      "bdee\n",
      "beee\n",
      "cccc\n",
      "cccd\n",
      "ccce\n",
      "ccdd\n",
      "ccde\n",
      "ccee\n",
      "cddd\n",
      "cdde\n",
      "cdee\n",
      "ceee\n",
      "dddd\n",
      "ddde\n",
      "ddee\n",
      "deee\n",
      "eeee\n"
     ]
    }
   ],
   "source": [
    "#The code seems correct... I don't know why there's an error\n",
    "\n",
    "from itertools import combinations_with_replacement\n",
    "\n",
    "S,k= input().split(\" \")\n",
    "\n",
    "A= list(combinations_with_replacement (S, int(k)))\n",
    "A.sort()\n",
    "\n",
    "for i in A:\n",
    "    print(\"\".join(i))\n",
    "\n"
   ]
  }
 ],
 "metadata": {
  "kernelspec": {
   "display_name": "Python 3",
   "language": "python",
   "name": "python3"
  },
  "language_info": {
   "codemirror_mode": {
    "name": "ipython",
    "version": 3
   },
   "file_extension": ".py",
   "mimetype": "text/x-python",
   "name": "python",
   "nbconvert_exporter": "python",
   "pygments_lexer": "ipython3",
   "version": "3.8.8"
  }
 },
 "nbformat": 4,
 "nbformat_minor": 5
}
