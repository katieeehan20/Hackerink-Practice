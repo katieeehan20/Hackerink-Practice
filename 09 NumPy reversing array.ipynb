{
 "cells": [
  {
   "cell_type": "code",
   "execution_count": null,
   "id": "493ac171",
   "metadata": {},
   "outputs": [],
   "source": [
    "Hackerink Question\n",
    "\n",
    "https://www.hackerrank.com/challenges/np-arrays/problem"
   ]
  },
  {
   "cell_type": "code",
   "execution_count": 9,
   "id": "1660db13",
   "metadata": {},
   "outputs": [
    {
     "name": "stdout",
     "output_type": "stream",
     "text": [
      "1 2 3 4 -8 -10\n",
      "[-10.  -8.   4.   3.   2.   1.]\n"
     ]
    }
   ],
   "source": [
    "# Solution\n",
    "\n",
    "import numpy as np\n",
    "\n",
    "def arrays(arr):\n",
    "    return np.array(arr[::-1], float)\n",
    "\n",
    "arr=input().strip().split(\" \")\n",
    "result=arrays(arr)\n",
    "print(result)"
   ]
  },
  {
   "cell_type": "code",
   "execution_count": 11,
   "id": "dab54e29",
   "metadata": {},
   "outputs": [
    {
     "name": "stdout",
     "output_type": "stream",
     "text": [
      "[-10.  -8.   4.   3.   2.   1.]\n"
     ]
    }
   ],
   "source": [
    "import numpy as np\n",
    "\n",
    "A=np.array([1, 2, 3, 4, -8, -10])\n",
    "B=np.array([1, 2, 3, 4, -8, -10], float)\n",
    "\n",
    "C=B[::-1]\n",
    "print(C)"
   ]
  },
  {
   "cell_type": "code",
   "execution_count": 12,
   "id": "dd4a860f",
   "metadata": {},
   "outputs": [
    {
     "name": "stdout",
     "output_type": "stream",
     "text": [
      "(array([-10,  -8,   4,   3,   2,   1]), <class 'float'>)\n"
     ]
    }
   ],
   "source": [
    "C=(A[::-1], float)\n",
    "print(C)"
   ]
  }
 ],
 "metadata": {
  "kernelspec": {
   "display_name": "Python 3",
   "language": "python",
   "name": "python3"
  },
  "language_info": {
   "codemirror_mode": {
    "name": "ipython",
    "version": 3
   },
   "file_extension": ".py",
   "mimetype": "text/x-python",
   "name": "python",
   "nbconvert_exporter": "python",
   "pygments_lexer": "ipython3",
   "version": "3.8.8"
  }
 },
 "nbformat": 4,
 "nbformat_minor": 5
}
