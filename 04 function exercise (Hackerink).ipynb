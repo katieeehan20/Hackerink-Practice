{
 "cells": [
  {
   "cell_type": "markdown",
   "id": "85f4e631",
   "metadata": {},
   "source": [
    "Hackerink problem 01: \n",
    "    \n",
    "write a function that tests if a year is a leap year (True) or not a leap year (False)\n",
    "\n",
    "source: https://www.hackerrank.com/challenges/write-a-function/problem"
   ]
  },
  {
   "cell_type": "code",
   "execution_count": 19,
   "id": "a0568001",
   "metadata": {},
   "outputs": [],
   "source": [
    " First method, the best\n",
    "\n",
    "# def f() return a condition, which has boolean value (True/ False). \n",
    "\n",
    "# After def, you don't necessarily have to write if, else \n",
    "\n",
    "def year(x):\n",
    "    return x%4==0 and (x%100!=0 or x%400==0)\n"
   ]
  },
  {
   "cell_type": "code",
   "execution_count": 20,
   "id": "fc484ea9",
   "metadata": {},
   "outputs": [
    {
     "data": {
      "text/plain": [
       "False"
      ]
     },
     "execution_count": 20,
     "metadata": {},
     "output_type": "execute_result"
    }
   ],
   "source": [
    "year(1900)"
   ]
  },
  {
   "cell_type": "code",
   "execution_count": 21,
   "id": "d49b15f3",
   "metadata": {},
   "outputs": [
    {
     "data": {
      "text/plain": [
       "False"
      ]
     },
     "execution_count": 21,
     "metadata": {},
     "output_type": "execute_result"
    }
   ],
   "source": [
    "year(1903)"
   ]
  },
  {
   "cell_type": "code",
   "execution_count": 22,
   "id": "4688649f",
   "metadata": {},
   "outputs": [
    {
     "data": {
      "text/plain": [
       "True"
      ]
     },
     "execution_count": 22,
     "metadata": {},
     "output_type": "execute_result"
    }
   ],
   "source": [
    "year (1904)"
   ]
  },
  {
   "cell_type": "code",
   "execution_count": 23,
   "id": "b32eb328",
   "metadata": {},
   "outputs": [
    {
     "data": {
      "text/plain": [
       "True"
      ]
     },
     "execution_count": 23,
     "metadata": {},
     "output_type": "execute_result"
    }
   ],
   "source": [
    "year (2000) # the year divides evenly by 4 and also by 400, thus True"
   ]
  },
  {
   "cell_type": "code",
   "execution_count": 25,
   "id": "da822389",
   "metadata": {},
   "outputs": [
    {
     "data": {
      "text/plain": [
       "False"
      ]
     },
     "execution_count": 25,
     "metadata": {},
     "output_type": "execute_result"
    }
   ],
   "source": [
    "year (2100) # the year divides evenly by 100, thus returns False"
   ]
  },
  {
   "cell_type": "code",
   "execution_count": 27,
   "id": "ca1750ec",
   "metadata": {},
   "outputs": [
    {
     "data": {
      "text/plain": [
       "True"
      ]
     },
     "execution_count": 27,
     "metadata": {},
     "output_type": "execute_result"
    }
   ],
   "source": [
    "year(1992)"
   ]
  },
  {
   "cell_type": "markdown",
   "id": "a38be229",
   "metadata": {},
   "source": [
    "\n",
    "\n",
    "Second Method, a longer way to code"
   ]
  },
  {
   "cell_type": "code",
   "execution_count": 28,
   "id": "d00d8708",
   "metadata": {},
   "outputs": [],
   "source": [
    "# A longer way to solve the same problem, using if... else... return\n",
    "\n",
    "def leap_year(x):\n",
    "    if x%4==0 and (x%100!=0 or x%400==0):\n",
    "        return True\n",
    "    else:\n",
    "        return False\n"
   ]
  },
  {
   "cell_type": "code",
   "execution_count": 29,
   "id": "c4c476b0",
   "metadata": {},
   "outputs": [
    {
     "data": {
      "text/plain": [
       "True"
      ]
     },
     "execution_count": 29,
     "metadata": {},
     "output_type": "execute_result"
    }
   ],
   "source": [
    "leap_year(2000)"
   ]
  },
  {
   "cell_type": "code",
   "execution_count": 30,
   "id": "8a803380",
   "metadata": {},
   "outputs": [
    {
     "data": {
      "text/plain": [
       "False"
      ]
     },
     "execution_count": 30,
     "metadata": {},
     "output_type": "execute_result"
    }
   ],
   "source": [
    "leap_year(1900)"
   ]
  },
  {
   "cell_type": "code",
   "execution_count": 31,
   "id": "b6c60ed3",
   "metadata": {},
   "outputs": [
    {
     "data": {
      "text/plain": [
       "False"
      ]
     },
     "execution_count": 31,
     "metadata": {},
     "output_type": "execute_result"
    }
   ],
   "source": [
    "leap_year(1990)"
   ]
  },
  {
   "cell_type": "code",
   "execution_count": 32,
   "id": "993475cb",
   "metadata": {},
   "outputs": [
    {
     "data": {
      "text/plain": [
       "False"
      ]
     },
     "execution_count": 32,
     "metadata": {},
     "output_type": "execute_result"
    }
   ],
   "source": [
    "leap_year(2100)"
   ]
  },
  {
   "cell_type": "code",
   "execution_count": 33,
   "id": "8fb39fdc",
   "metadata": {},
   "outputs": [
    {
     "data": {
      "text/plain": [
       "True"
      ]
     },
     "execution_count": 33,
     "metadata": {},
     "output_type": "execute_result"
    }
   ],
   "source": [
    "leap_year(1992)"
   ]
  },
  {
   "cell_type": "markdown",
   "id": "60dee763",
   "metadata": {},
   "source": [
    "\n",
    "\n",
    "A Third way to code, a trick"
   ]
  },
  {
   "cell_type": "code",
   "execution_count": 34,
   "id": "0564c412",
   "metadata": {},
   "outputs": [],
   "source": [
    "import calendar\n",
    "\n",
    "def leap(x):\n",
    "    return calendar.isleap(x)"
   ]
  },
  {
   "cell_type": "code",
   "execution_count": 35,
   "id": "419caac2",
   "metadata": {},
   "outputs": [
    {
     "data": {
      "text/plain": [
       "False"
      ]
     },
     "execution_count": 35,
     "metadata": {},
     "output_type": "execute_result"
    }
   ],
   "source": [
    "leap(1900)"
   ]
  },
  {
   "cell_type": "code",
   "execution_count": 36,
   "id": "ab2f8b28",
   "metadata": {},
   "outputs": [
    {
     "data": {
      "text/plain": [
       "False"
      ]
     },
     "execution_count": 36,
     "metadata": {},
     "output_type": "execute_result"
    }
   ],
   "source": [
    "leap(1990)"
   ]
  },
  {
   "cell_type": "code",
   "execution_count": 37,
   "id": "591eb79a",
   "metadata": {},
   "outputs": [
    {
     "data": {
      "text/plain": [
       "True"
      ]
     },
     "execution_count": 37,
     "metadata": {},
     "output_type": "execute_result"
    }
   ],
   "source": [
    "leap(1992)"
   ]
  }
 ],
 "metadata": {
  "kernelspec": {
   "display_name": "Python 3",
   "language": "python",
   "name": "python3"
  },
  "language_info": {
   "codemirror_mode": {
    "name": "ipython",
    "version": 3
   },
   "file_extension": ".py",
   "mimetype": "text/x-python",
   "name": "python",
   "nbconvert_exporter": "python",
   "pygments_lexer": "ipython3",
   "version": "3.8.8"
  }
 },
 "nbformat": 4,
 "nbformat_minor": 5
}
